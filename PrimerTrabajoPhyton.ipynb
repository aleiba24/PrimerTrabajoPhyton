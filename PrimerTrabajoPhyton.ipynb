{
  "nbformat": 4,
  "nbformat_minor": 0,
  "metadata": {
    "colab": {
      "provenance": [],
      "authorship_tag": "ABX9TyPTBgn4H3R9g0guWcLlrgkd",
      "include_colab_link": true
    },
    "kernelspec": {
      "name": "python3",
      "display_name": "Python 3"
    },
    "language_info": {
      "name": "python"
    }
  },
  "cells": [
    {
      "cell_type": "markdown",
      "metadata": {
        "id": "view-in-github",
        "colab_type": "text"
      },
      "source": [
        "<a href=\"https://colab.research.google.com/github/aleiba24/PrimerTrabajoPhyton/blob/main/PrimerTrabajoPhyton.ipynb\" target=\"_parent\"><img src=\"https://colab.research.google.com/assets/colab-badge.svg\" alt=\"Open In Colab\"/></a>"
      ]
    },
    {
      "cell_type": "code",
      "execution_count": 6,
      "metadata": {
        "colab": {
          "base_uri": "https://localhost:8080/"
        },
        "id": "NloUxZnUk1MF",
        "outputId": "a68d2bc5-b721-4c32-e0b9-357ad4b88768"
      },
      "outputs": [
        {
          "output_type": "stream",
          "name": "stdout",
          "text": [
            "Adivinanza\n"
          ]
        }
      ],
      "source": [
        "print (\"Adivinanza\")"
      ]
    },
    {
      "cell_type": "code",
      "source": [
        "import random\n",
        "\n",
        "numero_aleatorio = random.randint(10, 20)\n",
        "adivinanza = 0\n",
        "\n",
        "print (\"Adivina un número entre 10 y 20\")\n",
        "\n",
        "while adivinanza != numero_aleatorio:\n",
        " adivinanza = int(input (\"Ingresa tu número: \"))\n",
        "\n",
        " if adivinanza < numero_aleatorio:\n",
        "  print (\"Elige uno más alto\")\n",
        " elif adivinanza > numero_aleatorio:\n",
        "  print (\"Elige uno más bajo\")\n",
        " else:\n",
        "  print (\"Correcto\")"
      ],
      "metadata": {
        "colab": {
          "base_uri": "https://localhost:8080/"
        },
        "id": "S12nmSXtsLpe",
        "outputId": "059ae9c4-dbba-4a07-e1a4-b0f850f5f295"
      },
      "execution_count": 15,
      "outputs": [
        {
          "output_type": "stream",
          "name": "stdout",
          "text": [
            "Adivina un número entre 10 y 20\n",
            "Ingresa tu número: 0\n",
            "Elige uno más alto\n",
            "Ingresa tu número: 5\n",
            "Elige uno más alto\n",
            "Ingresa tu número: 16\n",
            "Elige uno más bajo\n",
            "Ingresa tu número: 14\n",
            "Elige uno más alto\n",
            "Ingresa tu número: 15\n",
            "Correcto\n"
          ]
        }
      ]
    },
    {
      "cell_type": "code",
      "source": [],
      "metadata": {
        "id": "7TChZRI-sN2U"
      },
      "execution_count": null,
      "outputs": []
    }
  ]
}